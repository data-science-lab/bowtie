{
 "cells": [
  {
   "cell_type": "code",
   "execution_count": 1,
   "metadata": {
    "collapsed": true
   },
   "outputs": [],
   "source": [
    "import networkx as nx\n",
    "import pandas as pd\n",
    "from collections import defaultdict\n",
    "get_ipython().magic(u'matplotlib inline')\n",
    "import matplotlib.cm as cm\n",
    "import matplotlib.pyplot as plt\n",
    "import numpy as np\n",
    "import statsmodels.api as sm\n",
    "\n",
    "# 幂律分布\n",
    "def powerPlot(data):\n",
    "    d = sorted(data, reverse = True )\n",
    "    d_table = defaultdict(int)\n",
    "    for k in d:\n",
    "        d_table[k] += 1\n",
    "    d_value = sorted(d_table)\n",
    "    d_freq = [d_table[i] for i in d_value]\n",
    "    d_prob = [float(i)/sum(d_freq) for i in d_freq]\n",
    "    #d_rank = ss.rankdata(d_value).astype(int)\n",
    "    x = np.log(d_value)\n",
    "    y = np.log(d_prob)\n",
    "    xx = sm.add_constant(x, prepend=True)\n",
    "    res = sm.OLS(y,xx).fit()\n",
    "    constant,beta = res.params\n",
    "    r2 = res.rsquared\n",
    "    plt.plot(d_value, d_prob, 'ro')\n",
    "    plt.plot(d_value, np.exp(constant+x*beta),\"red\")\n",
    "    plt.xscale('log'); plt.yscale('log')\n",
    "    plt.text(max(d_value)/5,max(d_prob)/5,\n",
    "             'Beta = ' + str(round(beta,2)) +'\\n' + 'R squared = ' + str(round(r2, 2)))\n",
    "    plt.title('Size Distribution')\n",
    "    plt.ylabel('Probability')\n",
    "    plt.xlabel('Size')\n",
    "    plt.show()    \n",
    "    \n",
    "# zipf 分布\n",
    "def powerRankPlot(data):\n",
    "    t = np.array(sorted(data,key=lambda x:-x))\n",
    "    r = np.array(range(len(data))) +1\n",
    "    x = np.log(r)\n",
    "    y = np.log(t)\n",
    "    xx = sm.add_constant(x, prepend=True)\n",
    "    res = sm.OLS(y,xx).fit()\n",
    "    constant, beta = res.params\n",
    "    r2 = res.rsquared\n",
    "    plt.plot(r,t, \"o\",color='b',markersize=5)\n",
    "    plt.plot(r, np.exp(constant+x*beta),\"red\")\n",
    "    plt.text(min(r)+(max(r)-min(r))/10, min(t)+(max(t)-min(t))/2,  \n",
    "             'Beta = ' + str(np.round(beta,2)) + '\\n' + 'R squared = ' + str(np.round(r2, 2)))\n",
    "    plt.xscale('log'); plt.yscale('log')\n",
    "    plt.xlabel(r'Rank')\n",
    "    plt.ylabel(r'Frequency')"
   ]
  },
  {
   "cell_type": "code",
   "execution_count": 2,
   "metadata": {
    "collapsed": true
   },
   "outputs": [],
   "source": [
    "# with open('/home/czc/Documents/Data/phone_data/phone_data/tb_sms_201202.txt') as f:\n",
    "with open('D:/Data/phone_data/phone_data/tb_sms_201202.txt') as f:\n",
    "    dat = f.readlines() "
   ]
  },
  {
   "cell_type": "code",
   "execution_count": 3,
   "metadata": {
    "collapsed": false
   },
   "outputs": [
    {
     "name": "stdout",
     "output_type": "stream",
     "text": [
      "Name: \n",
      "Type: DiGraph\n",
      "Number of nodes: 2812965\n",
      "Number of edges: 3857370\n",
      "Average in degree:   1.3713\n",
      "Average out degree:   1.3713\n"
     ]
    }
   ],
   "source": [
    "G = nx.DiGraph()\n",
    "for i in dat:\n",
    "    date, p1, p2 = i.split(\"\\t\")[:3]\n",
    "    G.add_edge(p1,p2)\n",
    "print nx.info(G)"
   ]
  },
  {
   "cell_type": "markdown",
   "metadata": {},
   "source": [
    "## 求weakly_connected_components"
   ]
  },
  {
   "cell_type": "code",
   "execution_count": 4,
   "metadata": {
    "collapsed": false
   },
   "outputs": [],
   "source": [
    "components = list(nx.weakly_connected_components(G))"
   ]
  },
  {
   "cell_type": "code",
   "execution_count": 16,
   "metadata": {
    "collapsed": false
   },
   "outputs": [
    {
     "data": {
      "text/plain": [
       "61003"
      ]
     },
     "execution_count": 16,
     "metadata": {},
     "output_type": "execute_result"
    }
   ],
   "source": [
    "len(components)"
   ]
  },
  {
   "cell_type": "code",
   "execution_count": 92,
   "metadata": {
    "collapsed": false
   },
   "outputs": [
    {
     "data": {
      "text/plain": [
       "defaultdict(<type 'int'>, {1: 241, 2614786: 1, 3: 12001, 4: 5527, 5: 3011, 6: 1779, 7: 1104, 8: 693, 9: 484, 10: 328, 11: 253, 12: 192, 2: 34653, 14: 86, 15: 78, 16: 64, 17: 46, 18: 37, 19: 34, 20: 25, 21: 20, 22: 14, 23: 24, 24: 14, 25: 14, 26: 15, 27: 10, 28: 8, 29: 4, 30: 9, 31: 7, 32: 5, 33: 6, 34: 5, 35: 5, 36: 2, 37: 1, 38: 6, 39: 4, 40: 5, 41: 2, 42: 2, 43: 4, 44: 1, 45: 4, 46: 1, 47: 2, 48: 1, 49: 1, 50: 3, 51: 2, 52: 2, 53: 1, 54: 1, 55: 1, 56: 1, 57: 1, 58: 3, 59: 1, 60: 1, 61: 3, 62: 1, 65: 1, 66: 1, 67: 1, 68: 1, 69: 1, 77: 1, 13: 112, 80: 1, 81: 1, 86: 1, 90: 2, 91: 1, 93: 2, 95: 1, 101: 3, 104: 1, 105: 1, 109: 1, 120: 1, 147: 1, 157: 1, 167: 1, 192: 1, 202: 1, 226: 1, 244: 1, 249: 1, 284: 1, 317: 1, 79: 5})"
      ]
     },
     "execution_count": 92,
     "metadata": {},
     "output_type": "execute_result"
    }
   ],
   "source": [
    "clen_dict = defaultdict(int)\n",
    "for i in components:\n",
    "    clen_dict[len(i)] += 1\n",
    "clen_dict"
   ]
  },
  {
   "cell_type": "code",
   "execution_count": 28,
   "metadata": {
    "collapsed": false
   },
   "outputs": [
    {
     "data": {
      "text/plain": [
       "34653"
      ]
     },
     "execution_count": 28,
     "metadata": {},
     "output_type": "execute_result"
    }
   ],
   "source": [
    "max(clen_dict.values())"
   ]
  },
  {
   "cell_type": "code",
   "execution_count": 29,
   "metadata": {
    "collapsed": false
   },
   "outputs": [
    {
     "data": {
      "text/plain": [
       "2614786"
      ]
     },
     "execution_count": 29,
     "metadata": {},
     "output_type": "execute_result"
    }
   ],
   "source": [
    "max(clen_dict.keys())"
   ]
  },
  {
   "cell_type": "code",
   "execution_count": 45,
   "metadata": {
    "collapsed": false
   },
   "outputs": [
    {
     "data": {
      "text/plain": [
       "[(1, 241),\n",
       " (2, 34653),\n",
       " (3, 12001),\n",
       " (4, 5527),\n",
       " (5, 3011),\n",
       " (6, 1779),\n",
       " (7, 1104),\n",
       " (8, 693),\n",
       " (9, 484),\n",
       " (10, 328),\n",
       " (11, 253),\n",
       " (12, 192),\n",
       " (13, 112),\n",
       " (14, 86),\n",
       " (15, 78),\n",
       " (16, 64),\n",
       " (17, 46),\n",
       " (18, 37),\n",
       " (19, 34),\n",
       " (20, 25),\n",
       " (21, 20),\n",
       " (22, 14),\n",
       " (23, 24),\n",
       " (24, 14),\n",
       " (25, 14),\n",
       " (26, 15),\n",
       " (27, 10),\n",
       " (28, 8),\n",
       " (29, 4),\n",
       " (30, 9),\n",
       " (31, 7),\n",
       " (32, 5),\n",
       " (33, 6),\n",
       " (34, 5),\n",
       " (35, 5),\n",
       " (36, 2),\n",
       " (37, 1),\n",
       " (38, 6),\n",
       " (39, 4),\n",
       " (40, 5),\n",
       " (41, 2),\n",
       " (42, 2),\n",
       " (43, 4),\n",
       " (44, 1),\n",
       " (45, 4),\n",
       " (46, 1),\n",
       " (47, 2),\n",
       " (48, 1),\n",
       " (49, 1),\n",
       " (50, 3),\n",
       " (51, 2),\n",
       " (52, 2),\n",
       " (53, 1),\n",
       " (54, 1),\n",
       " (55, 1),\n",
       " (56, 1),\n",
       " (57, 1),\n",
       " (58, 3),\n",
       " (59, 1),\n",
       " (60, 1),\n",
       " (61, 3),\n",
       " (62, 1),\n",
       " (65, 1),\n",
       " (66, 1),\n",
       " (67, 1),\n",
       " (68, 1),\n",
       " (69, 1),\n",
       " (77, 1),\n",
       " (79, 5),\n",
       " (80, 1),\n",
       " (81, 1),\n",
       " (86, 1),\n",
       " (90, 2),\n",
       " (91, 1),\n",
       " (93, 2),\n",
       " (95, 1),\n",
       " (101, 3),\n",
       " (104, 1),\n",
       " (105, 1),\n",
       " (109, 1),\n",
       " (120, 1),\n",
       " (147, 1),\n",
       " (157, 1),\n",
       " (167, 1),\n",
       " (192, 1),\n",
       " (202, 1),\n",
       " (226, 1),\n",
       " (244, 1),\n",
       " (249, 1),\n",
       " (284, 1),\n",
       " (317, 1),\n",
       " (2614786, 1)]"
      ]
     },
     "execution_count": 45,
     "metadata": {},
     "output_type": "execute_result"
    }
   ],
   "source": [
    "sorted(clen_dict.items())"
   ]
  },
  {
   "cell_type": "markdown",
   "metadata": {},
   "source": [
    "## 求scc，用BFS求in、out、tendrils&tubes"
   ]
  },
  {
   "cell_type": "code",
   "execution_count": 6,
   "metadata": {
    "collapsed": false
   },
   "outputs": [],
   "source": [
    "scc = max(nx.algorithms.components.strongly_connected.strongly_connected_components(G), key=len)"
   ]
  },
  {
   "cell_type": "code",
   "execution_count": 55,
   "metadata": {
    "collapsed": false
   },
   "outputs": [
    {
     "data": {
      "text/plain": [
       "84908"
      ]
     },
     "execution_count": 55,
     "metadata": {},
     "output_type": "execute_result"
    }
   ],
   "source": [
    "len(scc)"
   ]
  },
  {
   "cell_type": "code",
   "execution_count": 7,
   "metadata": {
    "collapsed": false
   },
   "outputs": [],
   "source": [
    "bfsnodes = nx.bfs_successors(G, scc[0])"
   ]
  },
  {
   "cell_type": "code",
   "execution_count": 11,
   "metadata": {
    "collapsed": true
   },
   "outputs": [],
   "source": [
    "rG = G.reverse()\n",
    "rbfsnodes = nx.bfs_successors(rG, scc[0])"
   ]
  },
  {
   "cell_type": "code",
   "execution_count": 8,
   "metadata": {
    "collapsed": false
   },
   "outputs": [],
   "source": [
    "bfsnodeslist= []\n",
    "for i in bfsnodes.keys():\n",
    "    bfsnodeslist.append(i)\n",
    "for i in bfsnodes.values():\n",
    "    for j in i:\n",
    "        bfsnodeslist.append(j)\n",
    "bfsnodesset = set(bfsnodeslist)"
   ]
  },
  {
   "cell_type": "code",
   "execution_count": 98,
   "metadata": {
    "collapsed": false
   },
   "outputs": [
    {
     "data": {
      "text/plain": [
       "1306621"
      ]
     },
     "execution_count": 98,
     "metadata": {},
     "output_type": "execute_result"
    }
   ],
   "source": [
    "len(bfsnodesset)"
   ]
  },
  {
   "cell_type": "code",
   "execution_count": 12,
   "metadata": {
    "collapsed": false
   },
   "outputs": [],
   "source": [
    "rbfsnodeslist= []\n",
    "for i in rbfsnodes.keys():\n",
    "    rbfsnodeslist.append(i)\n",
    "for i in rbfsnodes.values():\n",
    "    for j in i:\n",
    "        rbfsnodeslist.append(j)\n",
    "rbfsnodesset = set(rbfsnodeslist)"
   ]
  },
  {
   "cell_type": "code",
   "execution_count": 100,
   "metadata": {
    "collapsed": false
   },
   "outputs": [
    {
     "data": {
      "text/plain": [
       "103720"
      ]
     },
     "execution_count": 100,
     "metadata": {},
     "output_type": "execute_result"
    }
   ],
   "source": [
    "len(rbfsnodesset)"
   ]
  },
  {
   "cell_type": "code",
   "execution_count": 14,
   "metadata": {
    "collapsed": false
   },
   "outputs": [
    {
     "data": {
      "text/plain": [
       "84908"
      ]
     },
     "execution_count": 14,
     "metadata": {},
     "output_type": "execute_result"
    }
   ],
   "source": [
    "sccsection = bfsnodesset & rbfsnodesset\n",
    "len(sccsection)"
   ]
  },
  {
   "cell_type": "code",
   "execution_count": 15,
   "metadata": {
    "collapsed": false
   },
   "outputs": [],
   "source": [
    "insection = rbfsnodesset - sccsection\n",
    "outsection = bfsnodesset - sccsection"
   ]
  },
  {
   "cell_type": "code",
   "execution_count": 115,
   "metadata": {
    "collapsed": false
   },
   "outputs": [
    {
     "data": {
      "text/plain": [
       "set()"
      ]
     },
     "execution_count": 115,
     "metadata": {},
     "output_type": "execute_result"
    }
   ],
   "source": [
    "set(scc) - sccsection"
   ]
  },
  {
   "cell_type": "code",
   "execution_count": 104,
   "metadata": {
    "collapsed": false
   },
   "outputs": [
    {
     "name": "stdout",
     "output_type": "stream",
     "text": [
      "18812 1221713\n"
     ]
    }
   ],
   "source": [
    "print len(insection), len(outsection)"
   ]
  },
  {
   "cell_type": "code",
   "execution_count": 109,
   "metadata": {
    "collapsed": false
   },
   "outputs": [
    {
     "data": {
      "text/plain": [
       "2614786"
      ]
     },
     "execution_count": 109,
     "metadata": {},
     "output_type": "execute_result"
    }
   ],
   "source": [
    "len(components[1])"
   ]
  },
  {
   "cell_type": "code",
   "execution_count": 16,
   "metadata": {
    "collapsed": false
   },
   "outputs": [],
   "source": [
    "tendrilsandtubes = set(components[1]) - insection - outsection - sccsection"
   ]
  },
  {
   "cell_type": "code",
   "execution_count": 117,
   "metadata": {
    "collapsed": false
   },
   "outputs": [
    {
     "data": {
      "text/plain": [
       "1289353"
      ]
     },
     "execution_count": 117,
     "metadata": {},
     "output_type": "execute_result"
    }
   ],
   "source": [
    "len(tendrilsandtubes)"
   ]
  },
  {
   "cell_type": "code",
   "execution_count": 19,
   "metadata": {
    "collapsed": false
   },
   "outputs": [
    {
     "name": "stdout",
     "output_type": "stream",
     "text": [
      "1098435\n"
     ]
    }
   ],
   "source": [
    "ycount = 0\n",
    "for i in tendrilsandtubes:\n",
    "    if 'y' in i:\n",
    "        ycount += 1\n",
    "print ycount"
   ]
  },
  {
   "cell_type": "markdown",
   "metadata": {
    "collapsed": true
   },
   "source": [
    "## G的structural properties"
   ]
  },
  {
   "cell_type": "code",
   "execution_count": 4,
   "metadata": {
    "collapsed": false
   },
   "outputs": [
    {
     "data": {
      "text/plain": [
       "False"
      ]
     },
     "execution_count": 4,
     "metadata": {},
     "output_type": "execute_result"
    }
   ],
   "source": [
    "nx.is_weakly_connected(G)"
   ]
  },
  {
   "cell_type": "code",
   "execution_count": 4,
   "metadata": {
    "collapsed": true
   },
   "outputs": [],
   "source": [
    "nG = G.to_undirected()"
   ]
  },
  {
   "cell_type": "code",
   "execution_count": 5,
   "metadata": {
    "collapsed": false
   },
   "outputs": [
    {
     "data": {
      "text/plain": [
       "False"
      ]
     },
     "execution_count": 5,
     "metadata": {},
     "output_type": "execute_result"
    }
   ],
   "source": [
    "nx.is_connected(nG)"
   ]
  },
  {
   "cell_type": "code",
   "execution_count": 6,
   "metadata": {
    "collapsed": false
   },
   "outputs": [
    {
     "data": {
      "text/plain": [
       "0.022177256043719746"
      ]
     },
     "execution_count": 6,
     "metadata": {},
     "output_type": "execute_result"
    }
   ],
   "source": [
    "nx.average_clustering(nG)"
   ]
  },
  {
   "cell_type": "code",
   "execution_count": 7,
   "metadata": {
    "collapsed": false
   },
   "outputs": [
    {
     "ename": "NetworkXError",
     "evalue": "Graph is not connected.",
     "output_type": "error",
     "traceback": [
      "\u001b[1;31m---------------------------------------------------------------------------\u001b[0m",
      "\u001b[1;31mNetworkXError\u001b[0m                             Traceback (most recent call last)",
      "\u001b[1;32m<ipython-input-7-e452a6802205>\u001b[0m in \u001b[0;36m<module>\u001b[1;34m()\u001b[0m\n\u001b[1;32m----> 1\u001b[1;33m \u001b[0mnx\u001b[0m\u001b[1;33m.\u001b[0m\u001b[0maverage_shortest_path_length\u001b[0m\u001b[1;33m(\u001b[0m\u001b[0mnG\u001b[0m\u001b[1;33m)\u001b[0m\u001b[1;33m\u001b[0m\u001b[0m\n\u001b[0m",
      "\u001b[1;32mD:\\Anaconda\\lib\\site-packages\\networkx\\algorithms\\shortest_paths\\generic.pyc\u001b[0m in \u001b[0;36maverage_shortest_path_length\u001b[1;34m(G, weight)\u001b[0m\n\u001b[0;32m    297\u001b[0m     \u001b[1;32melse\u001b[0m\u001b[1;33m:\u001b[0m\u001b[1;33m\u001b[0m\u001b[0m\n\u001b[0;32m    298\u001b[0m         \u001b[1;32mif\u001b[0m \u001b[1;32mnot\u001b[0m \u001b[0mnx\u001b[0m\u001b[1;33m.\u001b[0m\u001b[0mis_connected\u001b[0m\u001b[1;33m(\u001b[0m\u001b[0mG\u001b[0m\u001b[1;33m)\u001b[0m\u001b[1;33m:\u001b[0m\u001b[1;33m\u001b[0m\u001b[0m\n\u001b[1;32m--> 299\u001b[1;33m             \u001b[1;32mraise\u001b[0m \u001b[0mnx\u001b[0m\u001b[1;33m.\u001b[0m\u001b[0mNetworkXError\u001b[0m\u001b[1;33m(\u001b[0m\u001b[1;34m\"Graph is not connected.\"\u001b[0m\u001b[1;33m)\u001b[0m\u001b[1;33m\u001b[0m\u001b[0m\n\u001b[0m\u001b[0;32m    300\u001b[0m     \u001b[0mavg\u001b[0m\u001b[1;33m=\u001b[0m\u001b[1;36m0.0\u001b[0m\u001b[1;33m\u001b[0m\u001b[0m\n\u001b[0;32m    301\u001b[0m     \u001b[1;32mif\u001b[0m \u001b[0mweight\u001b[0m \u001b[1;32mis\u001b[0m \u001b[0mNone\u001b[0m\u001b[1;33m:\u001b[0m\u001b[1;33m\u001b[0m\u001b[0m\n",
      "\u001b[1;31mNetworkXError\u001b[0m: Graph is not connected."
     ]
    }
   ],
   "source": [
    "nx.average_shortest_path_length(nG)"
   ]
  },
  {
   "cell_type": "code",
   "execution_count": null,
   "metadata": {
    "collapsed": true
   },
   "outputs": [],
   "source": []
  }
 ],
 "metadata": {
  "kernelspec": {
   "display_name": "Python 2",
   "language": "python",
   "name": "python2"
  },
  "language_info": {
   "codemirror_mode": {
    "name": "ipython",
    "version": 2
   },
   "file_extension": ".py",
   "mimetype": "text/x-python",
   "name": "python",
   "nbconvert_exporter": "python",
   "pygments_lexer": "ipython2",
   "version": "2.7.10"
  }
 },
 "nbformat": 4,
 "nbformat_minor": 0
}
