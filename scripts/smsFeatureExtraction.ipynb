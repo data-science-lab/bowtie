{
 "cells": [
  {
   "cell_type": "code",
   "execution_count": 2,
   "metadata": {
    "collapsed": true
   },
   "outputs": [],
   "source": [
    "import networkx as nx\n",
    "import pandas as pd\n",
    "from collections import defaultdict\n",
    "get_ipython().magic(u'matplotlib inline')\n",
    "import matplotlib.cm as cm\n",
    "import matplotlib.pyplot as plt\n",
    "import numpy as np\n",
    "import statsmodels.api as sm"
   ]
  },
  {
   "cell_type": "code",
   "execution_count": 22,
   "metadata": {
    "collapsed": true
   },
   "outputs": [],
   "source": [
    "# with open('D:/Data/phone_data/phone_data/tb_sms_201202.txt') as f:\n",
    "with open('/home/czc/Documents/Data/phone_data/phone_data/tb_sms_201202.txt') as f:\n",
    "    sms_data = f.readlines() \n",
    "output = open('/home/czc/Documents/Data/phone_data/phone_data/tb_sms_201202.csv', 'wb')\n",
    "output.write('day_id,send_nbr,acpt_nbr,send_nbr_oprt,acpt_nbr_oprt,send_time\\r\\n')\n",
    "for i in sms_data:\n",
    "    output.write(\",\".join(i.split(\"\\t\")))\n",
    "    \n",
    "with open('/home/czc/Documents/Data/phone_data/phone_data/tb_user_info_201202.txt') as f:\n",
    "    user_data = f.readlines()\n",
    "output = open('/home/czc/Documents/Data/phone_data/phone_data/tb_user_201202.csv', 'wb')\n",
    "output.write('ACC_NBR,URBAN_RURAL_ID,CERTI_LATN,GENDER,AGE,CUST_LEVEL,CUST_WORK_TYPE,OS_TYPE,TERMINAL_PRICE,INNET_DATE,IS_3G,IS_VIP,PROB_LEVEL,CONSUME_AMT,WEB_FEE,LOCAL_CALL_FEE,LONG_CALL_FEE,ROAM_CALL_FEE,CALL_FEE,VALUE_ADDED_FEE,SMS_FEE,STOP_CNT,OFR_CHANGE_CNT,INNET_FLOAT_AMT,INNET_DUR\\r\\n')\n",
    "for i in user_data:\n",
    "    output.write(\",\".join(i.split(\"\\t\")))\n",
    "    \n",
    "with open('/home/czc/Documents/Data/phone_data/phone_data/tb_call_201202.txt') as f:\n",
    "    call_data = f.readlines()\n",
    "output = open('/home/czc/Documents/Data/phone_data/phone_data/tb_call_201202.csv', 'wb')\n",
    "output.write('day_id,calling_nbr,called_nbr,calling_optr,called_optr,calling_city,called_city,calling_roam_city,called_roam_city,start_time,end_time,raw_dur,call_type,calling_cell\\r\\n')\n",
    "for i in call_data:\n",
    "    output.write(\",\".join(i.split(\"\\t\")))"
   ]
  },
  {
   "cell_type": "code",
   "execution_count": null,
   "metadata": {
    "collapsed": true
   },
   "outputs": [],
   "source": []
  },
  {
   "cell_type": "code",
   "execution_count": 6,
   "metadata": {
    "collapsed": false
   },
   "outputs": [
    {
     "data": {
      "text/plain": [
       "'20120201\\t559008\\ty25562542202\\t1\\t2\\t00:09:20\\r\\n'"
      ]
     },
     "execution_count": 6,
     "metadata": {},
     "output_type": "execute_result"
    }
   ],
   "source": [
    "sms_data[0]"
   ]
  },
  {
   "cell_type": "code",
   "execution_count": 7,
   "metadata": {
    "collapsed": false
   },
   "outputs": [
    {
     "data": {
      "text/plain": [
       "'10594\\t0\\t0551\\tF\\t57\\t4\\t56\\tandroid2.2\\t0\\t2010-05-06\\t0\\t4\\t159\\t100.1\\t-.3\\t37.75\\t52.75\\t.8\\t91.3\\t1\\t2.1\\t0\\t1\\t84.01\\t484.08\\r\\n'"
      ]
     },
     "execution_count": 7,
     "metadata": {},
     "output_type": "execute_result"
    }
   ],
   "source": [
    "user_data[0]"
   ]
  },
  {
   "cell_type": "code",
   "execution_count": 8,
   "metadata": {
    "collapsed": false
   },
   "outputs": [
    {
     "data": {
      "text/plain": [
       "'20120201\\t784641\\ty41430271044\\t1\\t2\\t0551\\t0551\\t0551\\t0551\\t08:07:07\\t08:08:24\\t77\\t1\\t32\\r\\n'"
      ]
     },
     "execution_count": 8,
     "metadata": {},
     "output_type": "execute_result"
    }
   ],
   "source": [
    "call_data[0]"
   ]
  },
  {
   "cell_type": "code",
   "execution_count": 19,
   "metadata": {
    "collapsed": false
   },
   "outputs": [],
   "source": [
    "for i in sms_data[0:10]:\n",
    "    i.replace('\\t',',')"
   ]
  },
  {
   "cell_type": "code",
   "execution_count": 20,
   "metadata": {
    "collapsed": false
   },
   "outputs": [
    {
     "data": {
      "text/plain": [
       "['20120201\\t559008\\ty25562542202\\t1\\t2\\t00:09:20\\r\\n',\n",
       " '20120201\\t559008\\ty25562542202\\t1\\t2\\t00:26:33\\r\\n',\n",
       " '20120201\\t559008\\ty25562542202\\t1\\t2\\t00:24:30\\r\\n',\n",
       " '20120201\\t875512\\t1196004\\t1\\t1\\t00:02:35\\r\\n',\n",
       " '20120201\\t559008\\ty25562542202\\t1\\t2\\t00:13:35\\r\\n',\n",
       " '20120201\\t559008\\ty25562542202\\t1\\t2\\t00:29:59\\r\\n',\n",
       " '20120201\\t849684\\t1168666\\t1\\t1\\t00:33:40\\r\\n',\n",
       " '20120201\\t559008\\ty25562542202\\t1\\t2\\t00:33:43\\r\\n',\n",
       " '20120201\\t559008\\ty25562542202\\t1\\t2\\t00:19:43\\r\\n',\n",
       " '20120201\\t559008\\ty25562542202\\t1\\t2\\t00:35:27\\r\\n']"
      ]
     },
     "execution_count": 20,
     "metadata": {},
     "output_type": "execute_result"
    }
   ],
   "source": [
    "sms_data[0:10]"
   ]
  },
  {
   "cell_type": "code",
   "execution_count": null,
   "metadata": {
    "collapsed": true
   },
   "outputs": [],
   "source": []
  }
 ],
 "metadata": {
  "kernelspec": {
   "display_name": "Python 2",
   "language": "python",
   "name": "python2"
  },
  "language_info": {
   "codemirror_mode": {
    "name": "ipython",
    "version": 2
   },
   "file_extension": ".py",
   "mimetype": "text/x-python",
   "name": "python",
   "nbconvert_exporter": "python",
   "pygments_lexer": "ipython2",
   "version": "2.7.10"
  }
 },
 "nbformat": 4,
 "nbformat_minor": 0
}
