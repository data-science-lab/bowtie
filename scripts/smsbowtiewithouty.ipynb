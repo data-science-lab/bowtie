{
 "cells": [
  {
   "cell_type": "code",
   "execution_count": 1,
   "metadata": {
    "collapsed": true
   },
   "outputs": [],
   "source": [
    "import networkx as nx\n",
    "import pandas as pd\n",
    "from collections import defaultdict\n",
    "get_ipython().magic(u'matplotlib inline')\n",
    "import matplotlib.cm as cm\n",
    "import matplotlib.pyplot as plt\n",
    "import numpy as np\n",
    "import statsmodels.api as sm"
   ]
  },
  {
   "cell_type": "code",
   "execution_count": 4,
   "metadata": {
    "collapsed": false
   },
   "outputs": [],
   "source": [
    "with open('/home/czc/Documents/Data/phone_data/phone_data/tb_sms_201202.txt') as f:\n",
    "    dat = f.readlines() \n",
    "\n",
    "G = nx.DiGraph()\n",
    "for i in dat:\n",
    "    date, x, y = i.split(\"\\t\")[:3]\n",
    "    if 'y' not in x and 'y' not in y:\n",
    "        G.add_edge(x,y)\n",
    "\n",
    "components = list(nx.weakly_connected_components(G))\n",
    "\n",
    "clen_dict = defaultdict(int)\n",
    "for i in components:\n",
    "    clen_dict[len(i)] += 1\n",
    "    \n",
    "scc = max(nx.algorithms.components.strongly_connected.strongly_connected_components(G), key=len)\n",
    "\n",
    "bfsnodes = nx.bfs_successors(G, scc[0])\n",
    "rG = G.reverse()\n",
    "rbfsnodes = nx.bfs_successors(rG, scc[0])\n",
    "\n",
    "bfsnodeslist= []\n",
    "for i in bfsnodes.keys():\n",
    "    bfsnodeslist.append(i)\n",
    "for i in bfsnodes.values():\n",
    "    for j in i:\n",
    "        bfsnodeslist.append(j)\n",
    "bfsnodesset = set(bfsnodeslist)\n",
    "\n",
    "rbfsnodeslist= []\n",
    "for i in rbfsnodes.keys():\n",
    "    rbfsnodeslist.append(i)\n",
    "for i in rbfsnodes.values():\n",
    "    for j in i:\n",
    "        rbfsnodeslist.append(j)\n",
    "rbfsnodesset = set(rbfsnodeslist)"
   ]
  },
  {
   "cell_type": "code",
   "execution_count": 13,
   "metadata": {
    "collapsed": false
   },
   "outputs": [
    {
     "name": "stdout",
     "output_type": "stream",
     "text": [
      "Name: \n",
      "Type: DiGraph\n",
      "Number of nodes: 240766\n",
      "Number of edges: 477045\n",
      "Average in degree:   1.9814\n",
      "Average out degree:   1.9814\n"
     ]
    }
   ],
   "source": [
    "print nx.info(G)"
   ]
  },
  {
   "cell_type": "code",
   "execution_count": 7,
   "metadata": {
    "collapsed": false
   },
   "outputs": [
    {
     "data": {
      "text/plain": [
       "[(1, 1621),\n",
       " (2, 19911),\n",
       " (3, 4301),\n",
       " (4, 1512),\n",
       " (5, 703),\n",
       " (6, 366),\n",
       " (7, 183),\n",
       " (8, 111),\n",
       " (9, 54),\n",
       " (10, 42),\n",
       " (11, 35),\n",
       " (12, 16),\n",
       " (13, 8),\n",
       " (14, 10),\n",
       " (15, 7),\n",
       " (16, 5),\n",
       " (17, 3),\n",
       " (18, 3),\n",
       " (19, 2),\n",
       " (20, 1),\n",
       " (21, 2),\n",
       " (22, 1),\n",
       " (23, 1),\n",
       " (24, 2),\n",
       " (27, 1),\n",
       " (30, 2),\n",
       " (32, 1),\n",
       " (37, 2),\n",
       " (43, 1),\n",
       " (170046, 1)]"
      ]
     },
     "execution_count": 7,
     "metadata": {},
     "output_type": "execute_result"
    }
   ],
   "source": [
    "sorted(clen_dict.items())"
   ]
  },
  {
   "cell_type": "code",
   "execution_count": 9,
   "metadata": {
    "collapsed": false
   },
   "outputs": [
    {
     "data": {
      "text/plain": [
       "170046"
      ]
     },
     "execution_count": 9,
     "metadata": {},
     "output_type": "execute_result"
    }
   ],
   "source": [
    "len(components[0])"
   ]
  },
  {
   "cell_type": "code",
   "execution_count": 11,
   "metadata": {
    "collapsed": false
   },
   "outputs": [
    {
     "data": {
      "text/plain": [
       "84908"
      ]
     },
     "execution_count": 11,
     "metadata": {},
     "output_type": "execute_result"
    }
   ],
   "source": [
    "len(scc)"
   ]
  },
  {
   "cell_type": "code",
   "execution_count": 12,
   "metadata": {
    "collapsed": false
   },
   "outputs": [
    {
     "data": {
      "text/plain": [
       "127379"
      ]
     },
     "execution_count": 12,
     "metadata": {},
     "output_type": "execute_result"
    }
   ],
   "source": [
    "len(bfsnodesset)"
   ]
  },
  {
   "cell_type": "code",
   "execution_count": 14,
   "metadata": {
    "collapsed": false
   },
   "outputs": [
    {
     "data": {
      "text/plain": [
       "103720"
      ]
     },
     "execution_count": 14,
     "metadata": {},
     "output_type": "execute_result"
    }
   ],
   "source": [
    "len(rbfsnodesset)"
   ]
  },
  {
   "cell_type": "code",
   "execution_count": 15,
   "metadata": {
    "collapsed": true
   },
   "outputs": [],
   "source": [
    "sccsection = bfsnodesset & rbfsnodesset\n",
    "insection = rbfsnodesset - sccsection\n",
    "outsection = bfsnodesset - sccsection"
   ]
  },
  {
   "cell_type": "code",
   "execution_count": 16,
   "metadata": {
    "collapsed": false
   },
   "outputs": [
    {
     "name": "stdout",
     "output_type": "stream",
     "text": [
      "18812 84908 42471 84908\n"
     ]
    }
   ],
   "source": [
    "print len(insection), len(sccsection), len(outsection), len(scc)"
   ]
  },
  {
   "cell_type": "code",
   "execution_count": 18,
   "metadata": {
    "collapsed": false
   },
   "outputs": [
    {
     "name": "stdout",
     "output_type": "stream",
     "text": [
      "23855\n"
     ]
    }
   ],
   "source": [
    "tendrilsandtubes = set(components[0]) - insection - sccsection - outsection\n",
    "print len(tendrilsandtubes)"
   ]
  },
  {
   "cell_type": "code",
   "execution_count": null,
   "metadata": {
    "collapsed": true
   },
   "outputs": [],
   "source": []
  }
 ],
 "metadata": {
  "kernelspec": {
   "display_name": "Python 2",
   "language": "python",
   "name": "python2"
  },
  "language_info": {
   "codemirror_mode": {
    "name": "ipython",
    "version": 2
   },
   "file_extension": ".py",
   "mimetype": "text/x-python",
   "name": "python",
   "nbconvert_exporter": "python",
   "pygments_lexer": "ipython2",
   "version": "2.7.10"
  }
 },
 "nbformat": 4,
 "nbformat_minor": 0
}
