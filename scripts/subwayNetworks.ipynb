{
 "cells": [
  {
   "cell_type": "markdown",
   "metadata": {},
   "source": [
    "### 用HongKong的数据做实验"
   ]
  },
  {
   "cell_type": "code",
   "execution_count": 51,
   "metadata": {
    "collapsed": true
   },
   "outputs": [],
   "source": [
    "import networkx as nx\n",
    "import string"
   ]
  },
  {
   "cell_type": "code",
   "execution_count": 133,
   "metadata": {
    "collapsed": true
   },
   "outputs": [],
   "source": [
    "with open(\"D:/Data/quanturb-metro-network-data-cities-2009/HongKong-2009-adjacency.net\") as f:\n",
    "    data =  f.readlines()"
   ]
  },
  {
   "cell_type": "code",
   "execution_count": 8,
   "metadata": {
    "collapsed": false
   },
   "outputs": [
    {
     "data": {
      "text/plain": [
       "['50', '\"CausewayBay\"', '22.28021', '114.183482', '0\\n']"
      ]
     },
     "execution_count": 8,
     "metadata": {},
     "output_type": "execute_result"
    }
   ],
   "source": [
    "data[2].split(\" \")"
   ]
  },
  {
   "cell_type": "code",
   "execution_count": 132,
   "metadata": {
    "collapsed": false
   },
   "outputs": [
    {
     "name": "stdout",
     "output_type": "stream",
     "text": [
      "50\n",
      "22.28021\n"
     ]
    }
   ],
   "source": [
    "print string.atoi(data[2].split(\" \")[0], 10)\n",
    "print string.atof(data[2].split(\" \")[2])"
   ]
  },
  {
   "cell_type": "code",
   "execution_count": 24,
   "metadata": {
    "collapsed": false
   },
   "outputs": [
    {
     "data": {
      "text/plain": [
       "['7', '8', '1\\n']"
      ]
     },
     "execution_count": 24,
     "metadata": {},
     "output_type": "execute_result"
    }
   ],
   "source": [
    "data[88].split(\" \")"
   ]
  },
  {
   "cell_type": "code",
   "execution_count": 134,
   "metadata": {
    "collapsed": false
   },
   "outputs": [
    {
     "name": "stdout",
     "output_type": "stream",
     "text": [
      "Name: \n",
      "Type: Graph\n",
      "Number of nodes: 82\n",
      "Number of edges: 85\n",
      "Average degree:   2.0732\n"
     ]
    }
   ],
   "source": [
    "stopdict = {}\n",
    "G = nx.Graph()\n",
    "for i in data:\n",
    "    if i.split(\" \")[-1] == '0\\n': # The stop lines are ended with 0\n",
    "        stop_id = i.split(\" \")[0]\n",
    "        stop_name = i.split(\" \")[1][1:-1]\n",
    "        stop_lat = i.split(\" \")[2]\n",
    "        stop_lon = i.split(\" \")[3]\n",
    "        stopdict[stop_id] = [stop_name, stop_lat, stop_lon]\n",
    "    if i.split(\" \")[-1] == '1\\n': # The edge lines are ended with 1\n",
    "        start = i.split(\" \")[0]\n",
    "        end = i.split(\" \")[1]\n",
    "        G.add_edge(start, end)\n",
    "print nx.info(G)"
   ]
  },
  {
   "cell_type": "code",
   "execution_count": 165,
   "metadata": {
    "collapsed": false
   },
   "outputs": [],
   "source": [
    "def calculate_e_global(G):\n",
    "    avg = 0.0\n",
    "    for node in G:\n",
    "        path_length_list=nx.single_source_shortest_path_length(G, node)\n",
    "        for e in path_length_list.values():\n",
    "            if e != 0:\n",
    "                avg += 1.0/e\n",
    "            else:\n",
    "                avg += 0\n",
    "    n=len(G)\n",
    "    if n != 1:\n",
    "        avg = avg/(n*(n-1))\n",
    "    else:\n",
    "        avg += 0\n",
    "    return avg\n",
    "    \n",
    "def calculate_e_local(G):\n",
    "    avg = 0.0\n",
    "    for node in G:\n",
    "        avg += calculate_e_global(G.subgraph(nx.bfs_successors(G,node)[node]))\n",
    "    avg = avg/len(G)\n",
    "    return avg"
   ]
  },
  {
   "cell_type": "code",
   "execution_count": 61,
   "metadata": {
    "collapsed": false
   },
   "outputs": [
    {
     "data": {
      "text/plain": [
       "0.15024595825121367"
      ]
     },
     "execution_count": 61,
     "metadata": {},
     "output_type": "execute_result"
    }
   ],
   "source": [
    "calculate_e_global(G)"
   ]
  },
  {
   "cell_type": "code",
   "execution_count": 62,
   "metadata": {
    "collapsed": false
   },
   "outputs": [
    {
     "data": {
      "text/plain": [
       "0.006097560975609756"
      ]
     },
     "execution_count": 62,
     "metadata": {},
     "output_type": "execute_result"
    }
   ],
   "source": [
    "calculate_e_local(G)"
   ]
  },
  {
   "cell_type": "markdown",
   "metadata": {},
   "source": [
    "### 计算其他城市地铁的efficiency（unweighted）"
   ]
  },
  {
   "cell_type": "code",
   "execution_count": 149,
   "metadata": {
    "collapsed": false
   },
   "outputs": [
    {
     "name": "stdout",
     "output_type": "stream",
     "text": [
      "\n"
     ]
    }
   ],
   "source": [
    "def calculate_e_global(G):\n",
    "    avg = 0.0\n",
    "    for node in G:\n",
    "        path_length_list=nx.single_source_shortest_path_length(G, node)\n",
    "        for e in path_length_list.values():\n",
    "            if e != 0:\n",
    "                avg += 1.0/e\n",
    "            else:\n",
    "                avg += 0\n",
    "    n=len(G)\n",
    "    if n != 1:\n",
    "        avg = avg/(n*(n-1))\n",
    "    else:\n",
    "        avg += 0\n",
    "    return avg\n",
    "    \n",
    "def calculate_e_local(G):\n",
    "    avg = 0.0\n",
    "    for node in G:\n",
    "        avg += calculate_e_global(G.subgraph(nx.bfs_successors(G,node)[node]))\n",
    "    avg = avg/len(G)\n",
    "    return avg\n",
    "\n",
    "def calculate_city_subway_efficiency(cityName):\n",
    "    with open(\"D:/Data/quanturb-metro-network-data-cities-2009/\" + cityName + \"-2009-adjacency.net\") as f:\n",
    "        data =  f.readlines()\n",
    "    stopdict = {}\n",
    "    G = nx.Graph()\n",
    "    for i in data:\n",
    "        if i.split(\" \")[-1] == '0\\n': # The stop lines are ended with 0\n",
    "            stop_id = i.split(\" \")[0]\n",
    "            stop_name = i.split(\" \")[1][1:-1]\n",
    "            stop_lat = i.split(\" \")[2]\n",
    "            stop_lon = i.split(\" \")[3]\n",
    "            stopdict[stop_id] = [stop_name, stop_lat, stop_lon]\n",
    "        if i.split(\" \")[-1] == '1\\n': # The edge lines are ended with 1\n",
    "            start = i.split(\" \")[0]\n",
    "            end = i.split(\" \")[1]\n",
    "            G.add_edge(start, end)\n",
    "    print cityName, \" Eglob = \", calculate_e_global(G)\n",
    "    print cityName, \" Eloc = \",calculate_e_local(G)"
   ]
  },
  {
   "cell_type": "code",
   "execution_count": 130,
   "metadata": {
    "collapsed": false
   },
   "outputs": [
    {
     "name": "stdout",
     "output_type": "stream",
     "text": [
      "Madrid  Eglob =  0.120476760921\n",
      "Madrid  Eloc =  0.00614035087719\n",
      "Chicago  Eglob =  0.114162607041\n",
      "Chicago  Eloc =  0.0182033096927\n",
      "Berlin  Eglob =  0.109005791837\n",
      "Berlin  Eloc =  0.00588235294118\n",
      "Beijing  Eglob =  0.149773533382\n",
      "Beijing  Eloc =  0.0201923076923\n",
      "Barcelona  Eglob =  0.14413603838\n",
      "Barcelona  Eloc =  0.008984375\n",
      "NewYork  Eglob =  0.0732230925809\n",
      "NewYork  Eloc =  0.017277026284\n",
      "Shanghai  Eglob =  0.119685146129\n",
      "Shanghai  Eloc =  0.00292792792793\n",
      "Tokyo  Eglob =  0.137223621792\n",
      "Tokyo  Eloc =  0.0236705434862\n",
      "Paris  Eglob =  0.116207527235\n",
      "Paris  Eloc =  0.0215320910973\n",
      "Seoul  Eglob =  0.0762680146974\n",
      "Seoul  Eloc =  0.00595238095238\n",
      "Moscow  Eglob =  0.151920095643\n",
      "Moscow  Eloc =  0.0195273631841\n",
      "Mexico  Eglob =  0.134071376436\n",
      "Mexico  Eloc =  0.00340136054422\n",
      "Osaka  Eglob =  0.162369801757\n",
      "Osaka  Eloc =  0.0\n"
     ]
    }
   ],
   "source": [
    "calculate_city_subway_efficiency(\"Madrid\")\n",
    "calculate_city_subway_efficiency(\"Chicago\")\n",
    "calculate_city_subway_efficiency(\"Berlin\")\n",
    "calculate_city_subway_efficiency(\"Beijing\")\n",
    "calculate_city_subway_efficiency(\"Barcelona\")\n",
    "calculate_city_subway_efficiency(\"NewYork\")\n",
    "calculate_city_subway_efficiency(\"Shanghai\")\n",
    "calculate_city_subway_efficiency(\"Tokyo\")\n",
    "calculate_city_subway_efficiency(\"Paris\")\n",
    "calculate_city_subway_efficiency(\"Seoul\")\n",
    "calculate_city_subway_efficiency(\"Moscow\")\n",
    "calculate_city_subway_efficiency(\"Mexico\")\n",
    "calculate_city_subway_efficiency(\"Osaka\")"
   ]
  },
  {
   "cell_type": "markdown",
   "metadata": {},
   "source": [
    "### 加入权重后计算efficiency"
   ]
  },
  {
   "cell_type": "code",
   "execution_count": 171,
   "metadata": {
    "collapsed": true
   },
   "outputs": [],
   "source": [
    "from math import *\n",
    "import networkx as nx\n",
    "import string\n",
    "\n",
    "def dis(lat1,lon1,lat2,lon2):\n",
    "    R = 6373.0 # convert Earth's radius in kilometers\n",
    "    lat1 = radians(lat1)\n",
    "    lon1 = radians(lon1)\n",
    "    lat2 = radians(lat2)\n",
    "    lon2 = radians(lon2)\n",
    "    dlon = lon2 - lon1\n",
    "    dlat = lat2 - lat1\n",
    "    a = (sin(dlat/2))**2 + cos(lat1) * cos(lat2) * (sin(dlon/2))**2\n",
    "    c = 2 * atan2(sqrt(a), sqrt(1-a))\n",
    "    distance = R * c\n",
    "    return distance\n",
    "\n",
    "def calculate_e_global_with_weight(G, stopdict):\n",
    "    avg = 0.0\n",
    "    d = 0.0\n",
    "    for node in G:\n",
    "        # logging.debug(\"node = \", node)\n",
    "        path_length_list=nx.single_source_shortest_path_length(G, node)\n",
    "        # logging.debug(\"path_length_list: \", path_length_list)\n",
    "        for i in path_length_list.keys():\n",
    "            if path_length_list[i] != 0:\n",
    "                x = node\n",
    "                y = i\n",
    "                l = dis(string.atof(stopdict[x][1]), string.atof(stopdict[x][2]), string.atof(stopdict[y][1]), string.atof(stopdict[y][2]))\n",
    "                a = path_length_list[i]\n",
    "                d = a * l\n",
    "                # logging.debug(\"x = \", x, \"y = \", y, \"l = \", l, \"a = \", a, \"d = \", d)\n",
    "            if d != 0:\n",
    "                avg += 1.0/d\n",
    "            else:\n",
    "                avg += 0\n",
    "    n=len(G)\n",
    "    if n != 1:\n",
    "        avg = avg/(n*(n-1))\n",
    "    else:\n",
    "        avg += 0\n",
    "    return avg\n",
    "    \n",
    "def calculate_e_local_with_weight(G, stopdict):\n",
    "    avg = 0.0\n",
    "    for node in G:\n",
    "        avg += calculate_e_global_with_weight(G.subgraph(nx.bfs_successors(G,node)[node]), stopdict)\n",
    "    avg = avg/len(G)\n",
    "    return avg\n",
    "\n",
    "def calculate_city_subway_efficiency_with_weight(cityName):\n",
    "    with open(\"D:/Data/quanturb-metro-network-data-cities-2009/\" + cityName + \"-2009-adjacency.net\") as f:\n",
    "        data =  f.readlines()\n",
    "    stopdict = {}\n",
    "    G = nx.Graph()\n",
    "    for i in data:\n",
    "        if i.split(\" \")[-1] == '0\\n': # The stop lines are ended with 0\n",
    "            stop_id = i.split(\" \")[0]\n",
    "            stop_name = i.split(\" \")[1][1:-1]\n",
    "            stop_lat = i.split(\" \")[2]\n",
    "            stop_lon = i.split(\" \")[3]\n",
    "            stopdict[stop_id] = [stop_name, stop_lat, stop_lon]\n",
    "        if i.split(\" \")[-1] == '1\\n': # The edge lines are ended with 1\n",
    "            start = i.split(\" \")[0]\n",
    "            end = i.split(\" \")[1]\n",
    "            G.add_edge(start, end)\n",
    "    print cityName, \" Eglob = \", calculate_e_global_with_weight(G, stopdict)\n",
    "    print cityName, \" Eloc = \",calculate_e_local_with_weight(G, stopdict)"
   ]
  },
  {
   "cell_type": "code",
   "execution_count": 142,
   "metadata": {
    "collapsed": false
   },
   "outputs": [
    {
     "name": "stdout",
     "output_type": "stream",
     "text": [
      "NewYork  Eglob =  0.04596312624\n",
      "NewYork  Eloc =  0.0108450232318\n"
     ]
    }
   ],
   "source": [
    "calculate_city_subway_efficiency_with_weight(\"NewYork\")"
   ]
  },
  {
   "cell_type": "code",
   "execution_count": 170,
   "metadata": {
    "collapsed": false
   },
   "outputs": [
    {
     "name": "stdout",
     "output_type": "stream",
     "text": [
      "NewYork  Eglob =  0.0468077440649\n",
      "NewYork  Eloc =  0.0424931083167\n"
     ]
    }
   ],
   "source": [
    "calculate_city_subway_efficiency_with_weight(\"NewYork\")"
   ]
  },
  {
   "cell_type": "code",
   "execution_count": null,
   "metadata": {
    "collapsed": true
   },
   "outputs": [],
   "source": []
  }
 ],
 "metadata": {
  "kernelspec": {
   "display_name": "Python 2",
   "language": "python",
   "name": "python2"
  },
  "language_info": {
   "codemirror_mode": {
    "name": "ipython",
    "version": 2
   },
   "file_extension": ".py",
   "mimetype": "text/x-python",
   "name": "python",
   "nbconvert_exporter": "python",
   "pygments_lexer": "ipython2",
   "version": "2.7.10"
  }
 },
 "nbformat": 4,
 "nbformat_minor": 0
}
