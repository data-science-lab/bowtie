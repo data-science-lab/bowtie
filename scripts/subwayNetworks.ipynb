{
 "cells": [
  {
   "cell_type": "markdown",
   "metadata": {},
   "source": [
    "### Calculate efficiency in unweighted network"
   ]
  },
  {
   "cell_type": "code",
   "execution_count": 27,
   "metadata": {
    "collapsed": false
   },
   "outputs": [
    {
     "name": "stdout",
     "output_type": "stream",
     "text": [
      "\n"
     ]
    }
   ],
   "source": [
    "import networkx as nx\n",
    "\n",
    "def calculate_e_global(G):\n",
    "    E = 0.0\n",
    "    Eid = 0.0\n",
    "    path_lengths = nx.shortest_path_length(G)\n",
    "    for i in path_lengths.values():\n",
    "        for j in i.values():\n",
    "            if j != 0:\n",
    "                E += 1.0 / j\n",
    "    for x in G.nodes():\n",
    "        for y in G.nodes():\n",
    "            if x != y:\n",
    "                Eid += 1\n",
    "    if Eid != 0:\n",
    "        E = E / Eid\n",
    "    else:\n",
    "        E = 0\n",
    "    return E\n",
    "    \n",
    "def calculate_e_local(G):\n",
    "    avg = 0.0\n",
    "    for node in G:\n",
    "        avg += calculate_e_global(G.subgraph(nx.bfs_successors(G,node)[node]))\n",
    "    avg = avg/len(G)\n",
    "    return avg\n",
    "\n",
    "def calculate_city_subway_efficiency(cityName):\n",
    "    with open(\"D:/Data/quanturb-metro-network-data-cities-2009/\" + cityName + \"-2009-adjacency.net\") as f:\n",
    "        data =  f.readlines()\n",
    "    stopdict = {}\n",
    "    G = nx.Graph()\n",
    "    for i in data:\n",
    "        if i.split(\" \")[-1] == '0\\n': # The stop lines are ended with 0\n",
    "            stop_id = i.split(\" \")[0]\n",
    "            stop_name = i.split(\" \")[1][1:-1]\n",
    "            stop_lat = i.split(\" \")[2]\n",
    "            stop_lon = i.split(\" \")[3]\n",
    "            stopdict[stop_id] = [stop_name, stop_lat, stop_lon]\n",
    "        if i.split(\" \")[-1] == '1\\n': # The edge lines are ended with 1\n",
    "            start = i.split(\" \")[0]\n",
    "            end = i.split(\" \")[1]\n",
    "            G.add_edge(start, end)\n",
    "    print cityName, \" Eglob = \", calculate_e_global(G)\n",
    "    print cityName, \" Eloc = \",calculate_e_local(G)"
   ]
  },
  {
   "cell_type": "code",
   "execution_count": 30,
   "metadata": {
    "collapsed": false
   },
   "outputs": [
    {
     "name": "stdout",
     "output_type": "stream",
     "text": [
      "HongKong  Eglob =  0.150245958251\n",
      "HongKong  Eloc =  0.00609756097561\n",
      "Madrid  Eglob =  0.120476760921\n",
      "Madrid  Eloc =  0.00614035087719\n",
      "Chicago  Eglob =  0.114162607041\n",
      "Chicago  Eloc =  0.0182033096927\n",
      "Berlin  Eglob =  0.109005791837\n",
      "Berlin  Eloc =  0.00588235294118\n",
      "Beijing  Eglob =  0.149773533382\n",
      "Beijing  Eloc =  0.0201923076923\n",
      "Barcelona  Eglob =  0.14413603838\n",
      "Barcelona  Eloc =  0.008984375\n",
      "NewYork  Eglob =  0.0732230925809\n",
      "NewYork  Eloc =  0.017277026284\n",
      "Shanghai  Eglob =  0.119685146129\n",
      "Shanghai  Eloc =  0.00292792792793\n",
      "Tokyo  Eglob =  0.137223621792\n",
      "Tokyo  Eloc =  0.0236705434862\n",
      "Paris  Eglob =  0.116207527235\n",
      "Paris  Eloc =  0.0215320910973\n",
      "Seoul  Eglob =  0.0762680146974\n",
      "Seoul  Eloc =  0.00595238095238\n",
      "Moscow  Eglob =  0.151920095643\n",
      "Moscow  Eloc =  0.0195273631841\n",
      "Mexico  Eglob =  0.134071376436\n",
      "Mexico  Eloc =  0.00340136054422\n",
      "Osaka  Eglob =  0.162369801757\n",
      "Osaka  Eloc =  0.0\n"
     ]
    }
   ],
   "source": [
    "calculate_city_subway_efficiency(\"HongKong\")\n",
    "calculate_city_subway_efficiency(\"Madrid\")\n",
    "calculate_city_subway_efficiency(\"Chicago\")\n",
    "calculate_city_subway_efficiency(\"Berlin\")\n",
    "calculate_city_subway_efficiency(\"Beijing\")\n",
    "calculate_city_subway_efficiency(\"Barcelona\")\n",
    "calculate_city_subway_efficiency(\"NewYork\")\n",
    "calculate_city_subway_efficiency(\"Shanghai\")\n",
    "calculate_city_subway_efficiency(\"Tokyo\")\n",
    "calculate_city_subway_efficiency(\"Paris\")\n",
    "calculate_city_subway_efficiency(\"Seoul\")\n",
    "calculate_city_subway_efficiency(\"Moscow\")\n",
    "calculate_city_subway_efficiency(\"Mexico\")\n",
    "calculate_city_subway_efficiency(\"Osaka\")"
   ]
  },
  {
   "cell_type": "markdown",
   "metadata": {},
   "source": [
    "### Calculate efficiency in weighted network"
   ]
  },
  {
   "cell_type": "code",
   "execution_count": 20,
   "metadata": {
    "collapsed": false
   },
   "outputs": [],
   "source": [
    "from math import *\n",
    "import networkx as nx\n",
    "import string\n",
    "\n",
    "def dis(lat1,lon1,lat2,lon2):\n",
    "    R = 6373.0 # convert Earth's radius in kilometers\n",
    "    lat1 = radians(lat1)\n",
    "    lon1 = radians(lon1)\n",
    "    lat2 = radians(lat2)\n",
    "    lon2 = radians(lon2)\n",
    "    dlon = lon2 - lon1\n",
    "    dlat = lat2 - lat1\n",
    "    a = (sin(dlat/2))**2 + cos(lat1) * cos(lat2) * (sin(dlon/2))**2\n",
    "    c = 2 * atan2(sqrt(a), sqrt(1-a))\n",
    "    distance = R * c\n",
    "    return distance\n",
    "\n",
    "def calculate_e_global_with_weight(G, stopdict):\n",
    "    E = 0.0\n",
    "    Eid = 0.0\n",
    "    path_lengths = nx.shortest_path_length(G)\n",
    "    for i in path_lengths.values():\n",
    "        for j in i.values():\n",
    "            if j != 0:\n",
    "                E += 1.0 / j\n",
    "    for x in G.nodes():\n",
    "        for y in G.nodes():\n",
    "            if x != y:\n",
    "                l = dis(string.atof(stopdict[x][1]), \n",
    "                        string.atof(stopdict[x][2]), \n",
    "                        string.atof(stopdict[y][1]), \n",
    "                        string.atof(stopdict[y][2]))\n",
    "                if l != 0:\n",
    "                    Eid += 1.0 / l\n",
    "    if Eid != 0:\n",
    "        E = E / Eid\n",
    "    else:\n",
    "        E = 0\n",
    "    return E\n",
    "    \n",
    "def calculate_e_local_with_weight(G, stopdict):\n",
    "    avg = 0.0\n",
    "    for node in G:\n",
    "        avg += calculate_e_global_with_weight(G.subgraph(nx.bfs_successors(G,node)[node]), stopdict)\n",
    "    avg = avg/len(G)\n",
    "    return avg\n",
    "\n",
    "def calculate_city_subway_efficiency_with_weight(cityName):\n",
    "    with open(\"D:/Data/quanturb-metro-network-data-cities-2009/\" + cityName + \"-2009-adjacency.net\") as f:\n",
    "        data =  f.readlines()\n",
    "    stopdict = {}\n",
    "    G = nx.Graph()\n",
    "    for i in data:\n",
    "        if i.split(\" \")[-1] == '0\\n': # The stop lines are ended with 0\n",
    "            stop_id = i.split(\" \")[0]\n",
    "            stop_name = i.split(\" \")[1][1:-1]\n",
    "            stop_lat = i.split(\" \")[2]\n",
    "            stop_lon = i.split(\" \")[3]\n",
    "            stopdict[stop_id] = [stop_name, stop_lat, stop_lon]\n",
    "        if i.split(\" \")[-1] == '1\\n': # The edge lines are ended with 1\n",
    "            start = i.split(\" \")[0]\n",
    "            end = i.split(\" \")[1]\n",
    "            geodistance = dis(string.atof(stopdict[start][1]), \n",
    "                              string.atof(stopdict[start][2]), \n",
    "                              string.atof(stopdict[end][1]), \n",
    "                              string.atof(stopdict[end][2]))\n",
    "            G.add_edge(start, end, weight = geodistance)\n",
    "    print cityName, \" Eglob = \", calculate_e_global_with_weight(G, stopdict)\n",
    "    print cityName, \" Eloc = \",calculate_e_local_with_weight(G, stopdict)"
   ]
  },
  {
   "cell_type": "code",
   "execution_count": 29,
   "metadata": {
    "collapsed": false
   },
   "outputs": [
    {
     "name": "stdout",
     "output_type": "stream",
     "text": [
      "NewYork  Eglob =  0.348931275681\n",
      "NewYork  Eloc =  0.0182486259874\n",
      "HongKong  Eglob =  0.98551284002\n",
      "HongKong  Eloc =  0.0186248641969\n",
      "Madrid  Eglob =  0.52975053902\n",
      "Madrid  Eloc =  0.00461160552901\n",
      "Chicago  Eglob =  0.646182853973\n",
      "Chicago  Eloc =  0.023431476511\n",
      "Berlin  Eglob =  0.560973532469\n",
      "Berlin  Eloc =  0.0057605422705\n",
      "Beijing  Eglob =  1.10916189678\n",
      "Beijing  Eloc =  0.338246727988\n",
      "Barcelona  Eglob =  0.489895893416\n",
      "Barcelona  Eloc =  0.00746752754019\n",
      "Shanghai  Eglob =  0.98365528006\n",
      "Shanghai  Eloc =  0.00521446723422\n",
      "Tokyo  Eglob =  0.685759683165\n",
      "Tokyo  Eloc =  0.0267437729595\n",
      "Paris  Eglob =  0.525752542603\n",
      "Paris  Eloc =  0.0196056620361\n",
      "Seoul  Eglob =  0.916725061182\n",
      "Seoul  Eloc =  0.00671963241211\n",
      "Moscow  Eglob =  1.20929758728\n",
      "Moscow  Eloc =  0.0390569228812\n",
      "Mexico  Eglob =  0.756009605063\n",
      "Mexico  Eloc =  0.00408524485823\n",
      "Osaka  Eglob =  0.761907483362\n",
      "Osaka  Eloc =  0.0\n"
     ]
    }
   ],
   "source": [
    "calculate_city_subway_efficiency_with_weight(\"NewYork\")\n",
    "calculate_city_subway_efficiency_with_weight(\"HongKong\")\n",
    "calculate_city_subway_efficiency_with_weight(\"Madrid\")\n",
    "calculate_city_subway_efficiency_with_weight(\"Chicago\")\n",
    "calculate_city_subway_efficiency_with_weight(\"Berlin\")\n",
    "calculate_city_subway_efficiency_with_weight(\"Beijing\")\n",
    "calculate_city_subway_efficiency_with_weight(\"Barcelona\")\n",
    "calculate_city_subway_efficiency_with_weight(\"Shanghai\")\n",
    "calculate_city_subway_efficiency_with_weight(\"Tokyo\")\n",
    "calculate_city_subway_efficiency_with_weight(\"Paris\")\n",
    "calculate_city_subway_efficiency_with_weight(\"Seoul\")\n",
    "calculate_city_subway_efficiency_with_weight(\"Moscow\")\n",
    "calculate_city_subway_efficiency_with_weight(\"Mexico\")\n",
    "calculate_city_subway_efficiency_with_weight(\"Osaka\")"
   ]
  }
 ],
 "metadata": {
  "kernelspec": {
   "display_name": "Python 2",
   "language": "python",
   "name": "python2"
  },
  "language_info": {
   "codemirror_mode": {
    "name": "ipython",
    "version": 2
   },
   "file_extension": ".py",
   "mimetype": "text/x-python",
   "name": "python",
   "nbconvert_exporter": "python",
   "pygments_lexer": "ipython2",
   "version": "2.7.10"
  }
 },
 "nbformat": 4,
 "nbformat_minor": 0
}
